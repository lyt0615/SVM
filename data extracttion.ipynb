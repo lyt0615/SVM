{
 "cells": [
  {
   "cell_type": "code",
   "execution_count": 2,
   "id": "c0f88bb9",
   "metadata": {},
   "outputs": [],
   "source": [
    "import pandas as pd \n",
    "import numpy as np\n",
    "from matplotlib.pyplot import imshow, show, colorbar\n",
    "import matplotlib.pyplot as plt"
   ]
  },
  {
   "cell_type": "code",
   "execution_count": 54,
   "id": "be62aa6f",
   "metadata": {},
   "outputs": [
    {
     "name": "stdout",
     "output_type": "stream",
     "text": [
      "[[0.30461474 0.40388757 0.27940847 ... 0.22139561 0.21940288 0.01476507]\n",
      " [0.42232555 0.21010819 0.41121444 ... 0.21202893 0.2231522  0.32553489]\n",
      " [0.38681646 0.42464102 0.52197753 ... 0.34478089 0.43193215 0.31830965]\n",
      " ...\n",
      " [0.13588075 0.13319926 0.07925391 ... 0.24329824 0.08236129 0.13830593]\n",
      " [0.04071882 0.05853344 0.09414933 ... 0.17647713 0.11225325 0.12813397]\n",
      " [0.10548363 0.08262433 0.16251541 ... 0.15013701 0.11030621 0.15610015]]\n"
     ]
    }
   ],
   "source": [
    "#Training Set\n",
    "X = np.load('E:/jupyter notebook/bacteria-ID-master/data/X_reference.npy')\n",
    "y = np.load('E:/jupyter notebook/bacteria-ID-master/data/y_reference.npy')\n",
    "Gram_class=[]\n",
    "Gram_idx=[]\n",
    "is_Gram=[]\n",
    "X_train=[]\n",
    "y_train=[]\n",
    "for i in range(len(y)-1):\n",
    "    if y[i]==14 or y[i]==15 or y[i]==18:\n",
    "        y[i]=1\n",
    "        Gram_class.append(y[i])\n",
    "        Gram_idx.append(i)\n",
    "    elif y[i]==16 or y[i]==17:\n",
    "        y[i]=0\n",
    "        Gram_class.append(y[i])\n",
    "        Gram_idx.append(i)\n",
    "for idx in Gram_idx:\n",
    "    is_Gram.append(X[idx])\n",
    "np.savetxt('E:/jupyter notebook/bacteria-ID-master/data/is_Gram.txt',is_Gram)\n",
    "X_train = np.loadtxt('E:/jupyter notebook/bacteria-ID-master/data/is_Gram.txt')\n",
    "y_train=Gram_class\n",
    "print(X_train)"
   ]
  },
  {
   "cell_type": "code",
   "execution_count": 3,
   "id": "ba888b6a",
   "metadata": {},
   "outputs": [
    {
     "ename": "FileNotFoundError",
     "evalue": "[Errno 2] No such file or directory: 'X_reference.npy'",
     "output_type": "error",
     "traceback": [
      "\u001b[1;31m---------------------------------------------------------------------------\u001b[0m",
      "\u001b[1;31mFileNotFoundError\u001b[0m                         Traceback (most recent call last)",
      "Input \u001b[1;32mIn [3]\u001b[0m, in \u001b[0;36m<cell line: 1>\u001b[1;34m()\u001b[0m\n\u001b[1;32m----> 1\u001b[0m X \u001b[38;5;241m=\u001b[39m \u001b[43mnp\u001b[49m\u001b[38;5;241;43m.\u001b[39;49m\u001b[43mload\u001b[49m\u001b[43m(\u001b[49m\u001b[38;5;124;43m'\u001b[39;49m\u001b[38;5;124;43mX_reference.npy\u001b[39;49m\u001b[38;5;124;43m'\u001b[39;49m\u001b[43m)\u001b[49m\n\u001b[0;32m      2\u001b[0m y \u001b[38;5;241m=\u001b[39m np\u001b[38;5;241m.\u001b[39mload(\u001b[38;5;124m'\u001b[39m\u001b[38;5;124my_reference.npy\u001b[39m\u001b[38;5;124m'\u001b[39m)\n\u001b[0;32m      3\u001b[0m mask_1 \u001b[38;5;241m=\u001b[39m (y \u001b[38;5;241m==\u001b[39m \u001b[38;5;241m14\u001b[39m) \u001b[38;5;241m|\u001b[39m (y \u001b[38;5;241m==\u001b[39m \u001b[38;5;241m15\u001b[39m) \u001b[38;5;241m|\u001b[39m (y \u001b[38;5;241m==\u001b[39m \u001b[38;5;241m18\u001b[39m)\n",
      "File \u001b[1;32mD:\\anaconda3\\lib\\site-packages\\numpy\\lib\\npyio.py:417\u001b[0m, in \u001b[0;36mload\u001b[1;34m(file, mmap_mode, allow_pickle, fix_imports, encoding)\u001b[0m\n\u001b[0;32m    415\u001b[0m     own_fid \u001b[38;5;241m=\u001b[39m \u001b[38;5;28;01mFalse\u001b[39;00m\n\u001b[0;32m    416\u001b[0m \u001b[38;5;28;01melse\u001b[39;00m:\n\u001b[1;32m--> 417\u001b[0m     fid \u001b[38;5;241m=\u001b[39m stack\u001b[38;5;241m.\u001b[39menter_context(\u001b[38;5;28;43mopen\u001b[39;49m\u001b[43m(\u001b[49m\u001b[43mos_fspath\u001b[49m\u001b[43m(\u001b[49m\u001b[43mfile\u001b[49m\u001b[43m)\u001b[49m\u001b[43m,\u001b[49m\u001b[43m \u001b[49m\u001b[38;5;124;43m\"\u001b[39;49m\u001b[38;5;124;43mrb\u001b[39;49m\u001b[38;5;124;43m\"\u001b[39;49m\u001b[43m)\u001b[49m)\n\u001b[0;32m    418\u001b[0m     own_fid \u001b[38;5;241m=\u001b[39m \u001b[38;5;28;01mTrue\u001b[39;00m\n\u001b[0;32m    420\u001b[0m \u001b[38;5;66;03m# Code to distinguish from NumPy binary files and pickles.\u001b[39;00m\n",
      "\u001b[1;31mFileNotFoundError\u001b[0m: [Errno 2] No such file or directory: 'X_reference.npy'"
     ]
    }
   ],
   "source": [
    "X = np.load('E:/jupyter notebook/bacteria-ID-master/data/X_reference.npy')\n",
    "y = np.load('E:/jupyter notebook/bacteria-ID-master/data/y_reference.npy')\n",
    "mask_1 = (y == 14) | (y == 15) | (y == 18)\n",
    "mask_2 = (y == 16) | (y == 17) \n",
    "idx = np.where(mask_1 | mask_2)\n",
    "X_train = []\n",
    "for i in idx:\n",
    "    X_train.append(X[idx])\n",
    "X_train = np.array(X_train)\n",
    "X_train = X_train.reshape(X_train.shape[0]*X_train.shape[1], X_train.shape[2])\n",
    "\n",
    "np.savetxt('E:/jupyter notebook/bacteria-ID-master/data/X_train.txt',X_train)\n",
    "X_train_1 = np.loadtxt('E:/jupyter notebook/bacteria-ID-master/data/X_train.txt')\n",
    "\n",
    "y[mask_1] = 1\n",
    "y[mask_2] = 0\n",
    "y_train = y[mask_1]\n",
    "y_train = y[mask_2]\n"
   ]
  },
  {
   "cell_type": "code",
   "execution_count": null,
   "id": "44dddb2a",
   "metadata": {},
   "outputs": [],
   "source": []
  }
 ],
 "metadata": {
  "kernelspec": {
   "display_name": "Python 3 (ipykernel)",
   "language": "python",
   "name": "python3"
  },
  "language_info": {
   "codemirror_mode": {
    "name": "ipython",
    "version": 3
   },
   "file_extension": ".py",
   "mimetype": "text/x-python",
   "name": "python",
   "nbconvert_exporter": "python",
   "pygments_lexer": "ipython3",
   "version": "3.9.12"
  }
 },
 "nbformat": 4,
 "nbformat_minor": 5
}
